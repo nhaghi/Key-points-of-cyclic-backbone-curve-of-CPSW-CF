{
 "cells": [
  {
   "cell_type": "markdown",
   "id": "d0977c7b-36dd-4a8a-b623-6fd21147de2f",
   "metadata": {},
   "source": [
    "## Import libraries"
   ]
  },
  {
   "cell_type": "code",
   "execution_count": null,
   "id": "ee139ba5-42b6-4e53-978d-c3299192b09f",
   "metadata": {},
   "outputs": [],
   "source": [
    "import pandas as pd\n",
    "import numpy as np\n",
    "import seaborn as sns\n",
    "from sklearn.ensemble import RandomForestRegressor\n",
    "from sklearn.model_selection import train_test_split\n",
    "from sklearn.model_selection import StratifiedShuffleSplit\n",
    "from sklearn.preprocessing import MinMaxScaler\n",
    "from sklearn.metrics import mean_squared_error, r2_score, mean_absolute_error\n",
    "import matplotlib.pyplot as plt\n",
    "import warnings\n",
    "warnings.filterwarnings(\"ignore\")\n"
   ]
  },
  {
   "cell_type": "markdown",
   "id": "fa20430f-c8c8-4772-9847-90218739481c",
   "metadata": {},
   "source": [
    "## Import dataset"
   ]
  },
  {
   "cell_type": "code",
   "execution_count": null,
   "id": "5b393120-7cf9-4f09-af97-52ea3306ec56",
   "metadata": {},
   "outputs": [],
   "source": [
    "SWDATA = pd.read_csv('DATAPOINT.csv')\n",
    "pd.crosstab(index= SWDATA [\"class\"],columns=\"count\")\n",
    "SWDATA2= SWDATA.drop([\"Label\",\"Vy \",\"Dy \",\"Dm \",\"Vu\",\"Du \"], axis=1)\n",
    "SWDATA3= SWDATA2.dropna()\n",
    "pd.crosstab(index= SWDATA3[\"class\"],columns=\"count\")\n",
    "SWDATA3.describe()\n"
   ]
  },
  {
   "cell_type": "markdown",
   "id": "7e872554-5df7-4766-86ec-ed12e851924b",
   "metadata": {},
   "source": [
    "## Correlation matrix"
   ]
  },
  {
   "cell_type": "code",
   "execution_count": null,
   "id": "a7b59667-ead0-41ae-a534-1bc0c285b97e",
   "metadata": {},
   "outputs": [],
   "source": [
    "corr_matrix = SWDATA3.corr()\n",
    "corr_matrix2 = np.round(corr_matrix, 2)\n",
    "plt.subplots(figsize=(16, 16))\n",
    "sns.heatmap(corr_matrix2, annot=True, cmap='plasma')\n",
    "plt.yticks(rotation=0)\n",
    "plt.show()\n"
   ]
  },
  {
   "cell_type": "markdown",
   "id": "21b3923f-ce70-4219-ba2c-180e5ae21c28",
   "metadata": {},
   "source": [
    "## Box plot"
   ]
  },
  {
   "cell_type": "code",
   "execution_count": null,
   "id": "d80a266d-1512-475d-8d90-cef6a062b192",
   "metadata": {},
   "outputs": [],
   "source": [
    "for column in SWDATA3:\n",
    "    plt.figure()\n",
    "    sns.boxplot(x= SWDATA3[column])\n"
   ]
  },
  {
   "cell_type": "markdown",
   "id": "0a6614da-13f5-41f1-af53-1ac358973e0e",
   "metadata": {},
   "source": [
    "## Train and Test split"
   ]
  },
  {
   "cell_type": "code",
   "execution_count": null,
   "id": "153c32ff-1779-4436-9ec6-2b31893fb41f",
   "metadata": {},
   "outputs": [],
   "source": [
    "SSS1 = StratifiedShuffleSplit(n_splits=1, test_size=0.3, random_state=50)\n",
    "stratified_split = []\n",
    "for train_i, test_i in SSS1.split(SWDATA3, SWDATA3[\"class\"]):\n",
    "  stratified_training_set_n = SWDATA3.iloc[train_i]\n",
    "  stratified_testing_set_n = SWDATA3.iloc[test_i]\n",
    "  stratified_split.append([stratified_train_set_n, stratified_test_set_n])\n",
    "\n",
    "for i, split in enumerate(stratified_split):\n",
    "    training_set, testing_set = split\n",
    "    print(f\"Training set {i+1}:\")\n",
    "    print(training_set)\n",
    "\n",
    "training_set\n",
    "testing_set\n",
    "\n",
    "testing_set[\"class\"].value_counts()/len(testing_set)\n",
    "training_set[\"class\"].value_counts()/len(training_set)\n",
    "training_set = training_set.drop(\"class\", axis=1)\n",
    "testing_set = testing_set.drop(\"class\", axis=1)\n",
    "training_features = training_set.drop(\"Vm \", axis=1)\n",
    "training_target = training_set[\"Vm \"]\n",
    "testing_features = testing_set.drop(\"Vm \", axis=1)\n",
    "testing_target = testing_set[\"Vm \"]\n",
    "testing_target.to_frame()\n",
    "\n"
   ]
  },
  {
   "cell_type": "markdown",
   "id": "88533c16-c28a-4713-bc01-14849dba2f33",
   "metadata": {},
   "source": [
    "## Scaling and transformation"
   ]
  },
  {
   "cell_type": "code",
   "execution_count": null,
   "id": "37eaa731-c0aa-43aa-9b52-cbfb05908512",
   "metadata": {},
   "outputs": [],
   "source": [
    "from sklearn.compose import TransformedTargetRegressor\n",
    "MMS = MinMaxScaler()\n",
    "training_values = MMS.fit_transform(training_features)\n",
    "training_values\n",
    "Model=TransformedTargetRegressor(RandomForestRegressor(n_estimators=100, max_depth=None, min_samples_split=2,random_state=50),                                  transformer=MMS)\n",
    "model.fit(training_values,  training_target.to_frame())\n",
    "\n"
   ]
  },
  {
   "cell_type": "markdown",
   "id": "1d3efb7c-baf4-4c39-93df-4fe68880f2e5",
   "metadata": {},
   "source": [
    "## Training prediction"
   ]
  },
  {
   "cell_type": "code",
   "execution_count": null,
   "id": "830b57f9-5b15-499c-9c98-e7d4e47cac81",
   "metadata": {},
   "outputs": [],
   "source": [
    "Pred_model = model.predict(training_values)\n",
    "Pred_model\n",
    "training_target_df = training_target.to_frame() if not isinstance(training_target, pd.DataFrame) else training_target\n",
    "pred_model_df = pd.DataFrame(Pred_model, columns=['Predicted'])\n",
    "results = pd.concat([training_target_df.reset_index(drop=True), pred_model_df], axis=1)\n",
    "print(results)\n",
    "r2 = r2_score(training_target, Pred_model)\n",
    "average_r2 = np.mean(r2_scores)\n",
    "print(\"Average R^2 Score:\", average_r2)\n",
    "MAE = mean_absolute_error(training_target, Pred_model)\n",
    "R2 = r2_score(training_target, Pred_model)\n",
    "RMSE = mean_squared_error(training_target, Pred_model, squared=False)\n",
    "print(\"MAE: {:.4f}\".format(MAE),\"R2: {:.4f}\".format(R2),\"RMSE: {:.4f}\".format(RMSE))\n",
    "labels = ['RMSE', 'MAE', 'R2']\n",
    "values = [RMSE, MAE, R2]\n",
    "\n"
   ]
  },
  {
   "cell_type": "markdown",
   "id": "4b429589-87a2-4259-9cba-beadffdb9038",
   "metadata": {},
   "source": [
    "## Testing prediction"
   ]
  },
  {
   "cell_type": "code",
   "execution_count": null,
   "id": "ebc477bb-9123-4fb8-8533-144b1f73dbb1",
   "metadata": {},
   "outputs": [],
   "source": [
    "testing_values = MMS.transform(testing_features)\n",
    "testing_values\n",
    "Pred_model_for_testing = model.predict(testing_values)\n",
    "Pred_model_for_testing\n",
    "testing_target_df = testing_target.to_frame() if not isinstance(testing_target, pd.DataFrame) else testing_target\n",
    "pred_model_for_testing_df = pd.DataFrame(Pred_model_for_testing, columns=['Predicted'])\n",
    "results = pd.concat([testing_target_df.reset_index(drop=True), pred_model_for_testing_df], axis=1)\n",
    "print(results)\n",
    "\n",
    "MAE = mean_absolute_error(testing_target, Pred_model_for_testing)\n",
    "R2 = r2_score(testing_target, Pred_model_for_testing)\n",
    "RMSE = mean_squared_error(testing_target, Pred_model_for_testing, squared=False)\n",
    "print(\"MAE: {:.4f}\".format(MAE),\n",
    "      \"R2: {:.4f}\".format(R2),\"RMSE: {:.4f}\".format(RMSE))\n",
    "\n",
    "print(\"MAE: {:.4f}\".format(MAE),\"R2: {:.4f}\".format(R2),\"RMSE: {:.4f}\".format(RMSE))\n",
    "x_values = range(len(testing_target))\n"
   ]
  },
  {
   "cell_type": "markdown",
   "id": "6ad89372-91d2-4232-ad59-afc44f6a6448",
   "metadata": {},
   "source": [
    "## Graph (actual Vs. predicted)"
   ]
  },
  {
   "cell_type": "code",
   "execution_count": null,
   "id": "9a38b6d2-9470-4272-8ee9-4de523a43751",
   "metadata": {},
   "outputs": [],
   "source": [
    "plt.plot(x_values, testing_target, color='black', label='Actual', linewidth=1)\n",
    "plt.plot(Pred_model_for_testing, color = 'red', label = 'Predicted', linestyle = '-.', linewidth = 2)\n",
    "plt.grid(alpha = 0.3)\n",
    "plt.xlabel('Experiment')\n",
    "plt.ylabel('Vm (kN)')\n",
    "plt.legend()\n",
    "plt.show()\n",
    "\n",
    "plt.figure(figsize=(5,5))\n",
    "plt.scatter(testing_target, Pred_model_for_testing,label='Testing set',edgecolor='orange', c= 'none')\n",
    "plt.scatter(training_target, Pred_model,label='Training set', c='none',edgecolor='green')\n",
    "\n",
    "testing_target_flat = np.ravel(testing_target)\n",
    "training_target_flat = np.ravel(training_target)\n",
    "Pred_model_for_testing_flat = np.ravel(Pred_model_for_testing)\n",
    "\n",
    "A1 = max(max(Pred_model_for_testing_flat), max(training_target_flat))\n",
    "A2 = min(min(Pred_model_for_testing_flat), min(training_target_flat))\n",
    "plt.plot([A1, A2], [A1, A2], 'b--')\n",
    "plt.xlabel('Measured shear strength (kN)', fontsize=10)\n",
    "plt.ylabel('Predicted shear strength (kN)', fontsize=10)\n",
    "plt.axis('equal')\n",
    "plt.legend()\n",
    "plt.show()\n"
   ]
  },
  {
   "cell_type": "markdown",
   "id": "c3c89fb4-d61f-412b-8833-4c07a6bcf4e0",
   "metadata": {},
   "source": [
    "## Cross-validation\n",
    "\n"
   ]
  },
  {
   "cell_type": "code",
   "execution_count": null,
   "id": "a9b62952-6ad4-43ac-b92a-9f38e30a326d",
   "metadata": {},
   "outputs": [],
   "source": [
    "from sklearn.model_selection import cross_val_score\n",
    "scores = cross_val_score(model, training_values, training_target, cv=12, scoring='neg_mean_squared_error')\n",
    "scores1 = cross_val_score(model, training_values, training_target, cv=12, scoring='neg_mean_absolute_error')\n",
    "scores2 = cross_val_score(model, training_values, training_target, cv=12, scoring='r2')\n",
    "\n",
    "print(\"Cross-validation Mean MSE: {:.4f}\".format(-scores.mean()))\n",
    "print(\"Cross-validation Mean MAE: {:.4f}\".format(-scores1.mean()))\n",
    "print(\"Cross-validation R2: {:.4f}\".format(scores2.mean()))\n"
   ]
  },
  {
   "cell_type": "markdown",
   "id": "c534fcaa-3d05-42f6-bc45-f5598a795f6d",
   "metadata": {},
   "source": [
    "## Feature selection"
   ]
  },
  {
   "cell_type": "code",
   "execution_count": null,
   "id": "2947b826-ee7a-4fd8-b38a-841d61e2a869",
   "metadata": {},
   "outputs": [],
   "source": [
    "from sklearn.feature_selection import RFECV\n",
    "rf_regressor = RandomForestRegressor(n_estimators=100, max_depth=None, min_samples_split=2,random_state=50)\n",
    "selector = RFECV(estimator=rf_regressor, step=1, cv=4, scoring='neg_mean_squared_error', n_jobs=-1)\n",
    "selector.fit(training_values, training_target)\n",
    "print(\"No. of selected features:\", selector.n_features_)\n",
    "print(\"Selected features:\", selector.support_)\n",
    "\n"
   ]
  },
  {
   "cell_type": "markdown",
   "id": "cdf8a8d9-0705-4d6d-be2e-709d0f32975e",
   "metadata": {},
   "source": [
    "## Feature importance"
   ]
  },
  {
   "cell_type": "code",
   "execution_count": null,
   "id": "e7e56c0d-09d7-4b42-982b-0e3722f53689",
   "metadata": {},
   "outputs": [],
   "source": [
    "rf_regressor.fit(training_values, training_target)\n",
    "training_values_df = pd.DataFrame(training_values)\n",
    "\n",
    "COL= training_values_df.columns\n",
    "importances = rf_regressor.feature_importances_\n",
    "COL = training_values_df.columns\n",
    "Feature_importnace = pd.DataFrame(importances, index = COL, columns = ['Importance']).sort_values(by = 'Importance', ascending = False )\n",
    "\n",
    "sns.barplot(x= Feature_importnace.index, y='Importance', data=importance_df, color= \"yellow\")\n",
    "plt.xlabel('Feature',fontsize=18)\n",
    "plt.ylabel('Importance',fontsize=18)\n",
    "plt.title('Random Forest',fontsize=20)\n",
    "plt.ylim(0,0.5)\n",
    "plt.show()\n"
   ]
  },
  {
   "cell_type": "markdown",
   "id": "e79f171b-36d7-45e8-9905-8c38560c27b0",
   "metadata": {},
   "source": [
    "## Hyperparameter\n",
    "\n"
   ]
  },
  {
   "cell_type": "code",
   "execution_count": null,
   "id": "01f9818b-9b2b-4323-8218-478515660e96",
   "metadata": {},
   "outputs": [],
   "source": [
    "from sklearn.model_selection import GridSearchCV,KFold\n",
    "from sklearn.datasets import load_iris\n",
    "\n",
    "iris = load_iris()\n",
    "X, y = training_values, training_target\n",
    "\n",
    "param_grid = {\n",
    "    'max_depth': [None, 2, 4, 5,8,10],\n",
    "    'n_estimators': [100, 150, 200, 300],\n",
    "    'min_samples_split': [2, 4, 5,8,10]\n",
    "}\n",
    "\n",
    "K_Fold= KFold(n_splits=5, shuffle=True, random_state=50)\n",
    "GS = GridSearchCV(estimator=rf_regressor, param_grid=param_grid,scoring='r2', cv= K_Fold)\n",
    "\n",
    "GS.fit(X, y)\n",
    "\n",
    "BestParam = GS.best_params_\n",
    "print(\"Best Parameters:\", BestParam)\n",
    "\n",
    "BestScore= GS.best_score_\n",
    "print(\"Best Score:\", BestScore)\n"
   ]
  }
 ],
 "metadata": {
  "kernelspec": {
   "display_name": "Python 3 (ipykernel)",
   "language": "python",
   "name": "python3"
  },
  "language_info": {
   "codemirror_mode": {
    "name": "ipython",
    "version": 3
   },
   "file_extension": ".py",
   "mimetype": "text/x-python",
   "name": "python",
   "nbconvert_exporter": "python",
   "pygments_lexer": "ipython3",
   "version": "3.11.5"
  }
 },
 "nbformat": 4,
 "nbformat_minor": 5
}
